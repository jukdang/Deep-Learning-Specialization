{
 "cells": [
  {
   "cell_type": "markdown",
   "id": "ea9319a6",
   "metadata": {},
   "source": [
    "# Convolutional Neural Networks: Application"
   ]
  },
  {
   "cell_type": "code",
   "execution_count": 1,
   "id": "ded97d4b",
   "metadata": {},
   "outputs": [],
   "source": [
    "import math\n",
    "import numpy as np\n",
    "import h5py\n",
    "import matplotlib.pyplot as plt\n",
    "from matplotlib.pyplot import imread\n",
    "import scipy\n",
    "from PIL import Image\n",
    "import pandas as pd\n",
    "import tensorflow as tf\n",
    "import tensorflow.keras.layers as tfl\n",
    "from tensorflow.python.framework import ops\n",
    "from cnn_utils import *\n",
    "\n",
    "%matplotlib inline\n",
    "np.random.seed(1)"
   ]
  },
  {
   "cell_type": "markdown",
   "id": "3de5cd19",
   "metadata": {},
   "source": [
    "## Happy House Data"
   ]
  },
  {
   "cell_type": "code",
   "execution_count": 22,
   "id": "ccc4a245",
   "metadata": {},
   "outputs": [],
   "source": [
    "# Load Dataset\n",
    "X_train_orig, Y_train_orig, X_test_orig, Y_test_orig, classes = load_happy_dataset()\n",
    "\n",
    "# Normalize image vectors\n",
    "X_train = X_train_orig/255.\n",
    "X_test = X_test_orig/255.\n",
    "\n",
    "# Reshape\n",
    "Y_train = Y_train_orig.T\n",
    "Y_test = Y_test_orig.T"
   ]
  },
  {
   "cell_type": "code",
   "execution_count": 23,
   "id": "763e4a3e",
   "metadata": {
    "scrolled": true
   },
   "outputs": [
    {
     "data": {
      "image/png": "[encoded data removed]",
      "text/plain": [
       "<Figure size 432x288 with 1 Axes>"
      ]
     },
     "metadata": {
      "needs_background": "light"
     },
     "output_type": "display_data"
    }
   ],
   "source": [
    "index = 124\n",
    "plt.imshow(X_train_orig[index]) #display sample training image\n",
    "plt.show()"
   ]
  },
  {
   "cell_type": "markdown",
   "id": "bfce9aa9",
   "metadata": {},
   "source": [
    "### CNN model\n",
    " - TF sequential Model"
   ]
  },
  {
   "cell_type": "code",
   "execution_count": 24,
   "id": "312a67c8",
   "metadata": {},
   "outputs": [],
   "source": [
    "def happyModel():\n",
    "    \"\"\"\n",
    "    Implements the forward propagation for the binary classification model:\n",
    "    ZEROPAD2D -> CONV2D -> BATCHNORM -> RELU -> MAXPOOL -> FLATTEN -> DENSE\n",
    "    \n",
    "    Note that for simplicity and grading purposes, you'll hard-code all the values\n",
    "    such as the stride and kernel (filter) sizes. \n",
    "    Normally, functions should take these values as function parameters.\n",
    "    \n",
    "    Arguments:\n",
    "    None\n",
    "\n",
    "    Returns:\n",
    "    model -- TF Keras model (object containing the information for the entire training process) \n",
    "    \"\"\"\n",
    "    model = tf.keras.Sequential([\n",
    "            tf.keras.layers.ZeroPadding2D(3, input_shape=(64,64,3)),\n",
    "            tf.keras.layers.Conv2D(32,(7,7), strides=(1,1)),\n",
    "            tf.keras.layers.BatchNormalization(axis=3),\n",
    "            tf.keras.layers.ReLU(),\n",
    "            tf.keras.layers.MaxPool2D(),\n",
    "            tf.keras.layers.Flatten(),\n",
    "            tf.keras.layers.Dense(1, activation='sigmoid')\n",
    "        ])\n",
    "    \n",
    "    return model"
   ]
  },
  {
   "cell_type": "code",
   "execution_count": 25,
   "id": "deec174f",
   "metadata": {},
   "outputs": [
    {
     "name": "stdout",
     "output_type": "stream",
     "text": [
      "Model: \"sequential_2\"\n",
      "_________________________________________________________________\n",
      " Layer (type)                Output Shape              Param #   \n",
      "=================================================================\n",
      " zero_padding2d_2 (ZeroPaddi  (None, 70, 70, 3)        0         \n",
      " ng2D)                                                           \n",
      "                                                                 \n",
      " conv2d_4 (Conv2D)           (None, 64, 64, 32)        4736      \n",
      "                                                                 \n",
      " batch_normalization_2 (Batc  (None, 64, 64, 32)       128       \n",
      " hNormalization)                                                 \n",
      "                                                                 \n",
      " re_lu_4 (ReLU)              (None, 64, 64, 32)        0         \n",
      "                                                                 \n",
      " max_pooling2d_4 (MaxPooling  (None, 32, 32, 32)       0         \n",
      " 2D)                                                             \n",
      "                                                                 \n",
      " flatten_3 (Flatten)         (None, 32768)             0         \n",
      "                                                                 \n",
      " dense_3 (Dense)             (None, 1)                 32769     \n",
      "                                                                 \n",
      "=================================================================\n",
      "Total params: 37,633\n",
      "Trainable params: 37,569\n",
      "Non-trainable params: 64\n",
      "_________________________________________________________________\n"
     ]
    }
   ],
   "source": [
    "happy_model = happyModel()\n",
    "happy_model.summary()"
   ]
  },
  {
   "cell_type": "code",
   "execution_count": 26,
   "id": "ec346108",
   "metadata": {},
   "outputs": [],
   "source": [
    "happy_model.compile(optimizer='adam',\n",
    "                   loss='binary_crossentropy',\n",
    "                   metrics=['accuracy'])"
   ]
  },
  {
   "cell_type": "code",
   "execution_count": 27,
   "id": "28accd0c",
   "metadata": {},
   "outputs": [
    {
     "name": "stdout",
     "output_type": "stream",
     "text": [
      "Epoch 1/10\n",
      "38/38 [==============================] - 1s 31ms/step - loss: 0.7798 - accuracy: 0.7467\n",
      "Epoch 2/10\n",
      "38/38 [==============================] - 1s 32ms/step - loss: 0.1696 - accuracy: 0.9333\n",
      "Epoch 3/10\n",
      "38/38 [==============================] - 1s 31ms/step - loss: 0.1984 - accuracy: 0.9233\n",
      "Epoch 4/10\n",
      "38/38 [==============================] - 1s 31ms/step - loss: 0.1708 - accuracy: 0.9250\n",
      "Epoch 5/10\n",
      "38/38 [==============================] - 1s 31ms/step - loss: 0.1047 - accuracy: 0.9533\n",
      "Epoch 6/10\n",
      "38/38 [==============================] - 1s 31ms/step - loss: 0.1079 - accuracy: 0.9633\n",
      "Epoch 7/10\n",
      "38/38 [==============================] - 1s 32ms/step - loss: 0.1913 - accuracy: 0.9283\n",
      "Epoch 8/10\n",
      "38/38 [==============================] - 1s 32ms/step - loss: 0.1454 - accuracy: 0.9483\n",
      "Epoch 9/10\n",
      "38/38 [==============================] - 1s 32ms/step - loss: 0.0787 - accuracy: 0.9783\n",
      "Epoch 10/10\n",
      "38/38 [==============================] - 1s 31ms/step - loss: 0.1196 - accuracy: 0.9667\n"
     ]
    },
    {
     "data": {
      "text/plain": [
       "<keras.callbacks.History at 0x1e72cf81af0>"
      ]
     },
     "execution_count": 27,
     "metadata": {},
     "output_type": "execute_result"
    }
   ],
   "source": [
    "happy_model.fit(X_train, Y_train, epochs=10, batch_size=16)"
   ]
  },
  {
   "cell_type": "code",
   "execution_count": 28,
   "id": "7c4196f1",
   "metadata": {},
   "outputs": [
    {
     "name": "stdout",
     "output_type": "stream",
     "text": [
      "5/5 [==============================] - 0s 15ms/step - loss: 0.2626 - accuracy: 0.8733\n",
      "accuracy : 0.8733333349227905, loss : 0.2625645101070404\n"
     ]
    }
   ],
   "source": [
    "score = happy_model.evaluate(X_test, Y_test)\n",
    "\n",
    "print(f\"accuracy : {score[1]}, loss : {score[0]}\")"
   ]
  },
  {
   "cell_type": "markdown",
   "id": "a2440b8a",
   "metadata": {},
   "source": [
    "## Signs Data"
   ]
  },
  {
   "cell_type": "code",
   "execution_count": 29,
   "id": "845c6b87",
   "metadata": {},
   "outputs": [],
   "source": [
    "# Loading the data (signs)\n",
    "X_train_orig, Y_train_orig, X_test_orig, Y_test_orig, classes = load_signs_dataset()\n",
    "\n",
    "X_train = X_train_orig/255.\n",
    "X_test = X_test_orig/255.\n",
    "Y_train = convert_to_one_hot(Y_train_orig, 6).T\n",
    "Y_test = convert_to_one_hot(Y_test_orig, 6).T"
   ]
  },
  {
   "cell_type": "code",
   "execution_count": 30,
   "id": "83dd2792",
   "metadata": {},
   "outputs": [
    {
     "name": "stdout",
     "output_type": "stream",
     "text": [
      "y = 4\n"
     ]
    },
    {
     "data": {
      "image/png": "[encoded data removed]",
      "text/plain": [
       "<Figure size 432x288 with 1 Axes>"
      ]
     },
     "metadata": {
      "needs_background": "light"
     },
     "output_type": "display_data"
    }
   ],
   "source": [
    "# Example of an image from the dataset\n",
    "index = 9\n",
    "plt.imshow(X_train_orig[index])\n",
    "print (\"y = \" + str(np.squeeze(Y_train_orig[:, index])))"
   ]
  },
  {
   "cell_type": "code",
   "execution_count": 31,
   "id": "90825c3d",
   "metadata": {},
   "outputs": [],
   "source": [
    "# GRADED FUNCTION: convolutional_model\n",
    "\n",
    "def convolutional_model(input_shape):\n",
    "    \"\"\"\n",
    "    Implements the forward propagation for the model:\n",
    "    CONV2D -> RELU -> MAXPOOL -> CONV2D -> RELU -> MAXPOOL -> FLATTEN -> DENSE\n",
    "    \n",
    "    Note that for simplicity and grading purposes, you'll hard-code some values\n",
    "    such as the stride and kernel (filter) sizes. \n",
    "    Normally, functions should take these values as function parameters.\n",
    "    \n",
    "    Arguments:\n",
    "    input_img -- input dataset, of shape (input_shape)\n",
    "\n",
    "    Returns:\n",
    "    model -- TF Keras model (object containing the information for the entire training process) \n",
    "    \"\"\"\n",
    "\n",
    "    input_img = tf.keras.Input(shape=input_shape)\n",
    "    Z1 = tf.keras.layers.Conv2D(8,(4,4),strides=(1,1), padding='same')(input_img)\n",
    "    A1 = tf.keras.layers.ReLU()(Z1)\n",
    "    P1 = tf.keras.layers.MaxPool2D((8,8),strides=(8,8), padding='same')(A1)\n",
    "    Z2 = tf.keras.layers.Conv2D(16,(2,2),strides=(1,1), padding='same')(P1)\n",
    "    A2 = tf.keras.layers.ReLU()(Z2)\n",
    "    P2 = tf.keras.layers.MaxPool2D((4,4),strides=(4,4), padding='same')(A2)\n",
    "    F = tf.keras.layers.Flatten()(P2)\n",
    "    outputs = tf.keras.layers.Dense(6,activation='softmax')(F)\n",
    "\n",
    "    model = tf.keras.Model(inputs=input_img, outputs=outputs)\n",
    "    return model"
   ]
  },
  {
   "cell_type": "code",
   "execution_count": 32,
   "id": "836ee8c5",
   "metadata": {},
   "outputs": [
    {
     "name": "stdout",
     "output_type": "stream",
     "text": [
      "Model: \"model_1\"\n",
      "_________________________________________________________________\n",
      " Layer (type)                Output Shape              Param #   \n",
      "=================================================================\n",
      " input_2 (InputLayer)        [(None, 64, 64, 3)]       0         \n",
      "                                                                 \n",
      " conv2d_5 (Conv2D)           (None, 64, 64, 8)         392       \n",
      "                                                                 \n",
      " re_lu_5 (ReLU)              (None, 64, 64, 8)         0         \n",
      "                                                                 \n",
      " max_pooling2d_5 (MaxPooling  (None, 8, 8, 8)          0         \n",
      " 2D)                                                             \n",
      "                                                                 \n",
      " conv2d_6 (Conv2D)           (None, 8, 8, 16)          528       \n",
      "                                                                 \n",
      " re_lu_6 (ReLU)              (None, 8, 8, 16)          0         \n",
      "                                                                 \n",
      " max_pooling2d_6 (MaxPooling  (None, 2, 2, 16)         0         \n",
      " 2D)                                                             \n",
      "                                                                 \n",
      " flatten_4 (Flatten)         (None, 64)                0         \n",
      "                                                                 \n",
      " dense_4 (Dense)             (None, 6)                 390       \n",
      "                                                                 \n",
      "=================================================================\n",
      "Total params: 1,310\n",
      "Trainable params: 1,310\n",
      "Non-trainable params: 0\n",
      "_________________________________________________________________\n"
     ]
    }
   ],
   "source": [
    "conv_model = convolutional_model((64, 64, 3))\n",
    "conv_model.summary()"
   ]
  },
  {
   "cell_type": "code",
   "execution_count": 33,
   "id": "a57bd45b",
   "metadata": {},
   "outputs": [],
   "source": [
    "conv_model.compile(optimizer='adam',\n",
    "                  loss='categorical_crossentropy',\n",
    "                  metrics=['accuracy'])"
   ]
  },
  {
   "cell_type": "code",
   "execution_count": 34,
   "id": "58f5c017",
   "metadata": {
    "scrolled": true
   },
   "outputs": [
    {
     "name": "stdout",
     "output_type": "stream",
     "text": [
      "Epoch 1/100\n",
      "17/17 [==============================] - 1s 31ms/step - loss: 1.7858 - accuracy: 0.1824 - val_loss: 1.7800 - val_accuracy: 0.2167\n",
      "Epoch 2/100\n",
      "17/17 [==============================] - 0s 25ms/step - loss: 1.7743 - accuracy: 0.2491 - val_loss: 1.7732 - val_accuracy: 0.2583\n",
      "Epoch 3/100\n",
      "17/17 [==============================] - 0s 26ms/step - loss: 1.7657 - accuracy: 0.3037 - val_loss: 1.7649 - val_accuracy: 0.3000\n",
      "Epoch 4/100\n",
      "17/17 [==============================] - 0s 26ms/step - loss: 1.7558 - accuracy: 0.3741 - val_loss: 1.7558 - val_accuracy: 0.3750\n",
      "Epoch 5/100\n",
      "17/17 [==============================] - 0s 25ms/step - loss: 1.7427 - accuracy: 0.3907 - val_loss: 1.7453 - val_accuracy: 0.4000\n",
      "Epoch 6/100\n",
      "17/17 [==============================] - 0s 24ms/step - loss: 1.7257 - accuracy: 0.4139 - val_loss: 1.7314 - val_accuracy: 0.3833\n",
      "Epoch 7/100\n",
      "17/17 [==============================] - 0s 23ms/step - loss: 1.7024 - accuracy: 0.4176 - val_loss: 1.7113 - val_accuracy: 0.4083\n",
      "Epoch 8/100\n",
      "17/17 [==============================] - 0s 25ms/step - loss: 1.6709 - accuracy: 0.4380 - val_loss: 1.6835 - val_accuracy: 0.4000\n",
      "Epoch 9/100\n",
      "17/17 [==============================] - 0s 25ms/step - loss: 1.6299 - accuracy: 0.4463 - val_loss: 1.6487 - val_accuracy: 0.4417\n",
      "Epoch 10/100\n",
      "17/17 [==============================] - 0s 25ms/step - loss: 1.5827 - accuracy: 0.4556 - val_loss: 1.6085 - val_accuracy: 0.4583\n",
      "Epoch 11/100\n",
      "17/17 [==============================] - 0s 24ms/step - loss: 1.5323 - accuracy: 0.4750 - val_loss: 1.5636 - val_accuracy: 0.4583\n",
      "Epoch 12/100\n",
      "17/17 [==============================] - 0s 23ms/step - loss: 1.4805 - accuracy: 0.4833 - val_loss: 1.5178 - val_accuracy: 0.4583\n",
      "Epoch 13/100\n",
      "17/17 [==============================] - 0s 24ms/step - loss: 1.4297 - accuracy: 0.4935 - val_loss: 1.4713 - val_accuracy: 0.4750\n",
      "Epoch 14/100\n",
      "17/17 [==============================] - 0s 24ms/step - loss: 1.3824 - accuracy: 0.5167 - val_loss: 1.4237 - val_accuracy: 0.5000\n",
      "Epoch 15/100\n",
      "17/17 [==============================] - 0s 24ms/step - loss: 1.3368 - accuracy: 0.5389 - val_loss: 1.3736 - val_accuracy: 0.5333\n",
      "Epoch 16/100\n",
      "17/17 [==============================] - 0s 24ms/step - loss: 1.2955 - accuracy: 0.5509 - val_loss: 1.3330 - val_accuracy: 0.5333\n",
      "Epoch 17/100\n",
      "17/17 [==============================] - 0s 25ms/step - loss: 1.2554 - accuracy: 0.5602 - val_loss: 1.2893 - val_accuracy: 0.5417\n",
      "Epoch 18/100\n",
      "17/17 [==============================] - 0s 24ms/step - loss: 1.2195 - accuracy: 0.5750 - val_loss: 1.2515 - val_accuracy: 0.5417\n",
      "Epoch 19/100\n",
      "17/17 [==============================] - 0s 25ms/step - loss: 1.1874 - accuracy: 0.5870 - val_loss: 1.2177 - val_accuracy: 0.5667\n",
      "Epoch 20/100\n",
      "17/17 [==============================] - 0s 24ms/step - loss: 1.1556 - accuracy: 0.6111 - val_loss: 1.1821 - val_accuracy: 0.5667\n",
      "Epoch 21/100\n",
      "17/17 [==============================] - 0s 25ms/step - loss: 1.1282 - accuracy: 0.6222 - val_loss: 1.1534 - val_accuracy: 0.5583\n",
      "Epoch 22/100\n",
      "17/17 [==============================] - 0s 25ms/step - loss: 1.0996 - accuracy: 0.6343 - val_loss: 1.1257 - val_accuracy: 0.5833\n",
      "Epoch 23/100\n",
      "17/17 [==============================] - 0s 24ms/step - loss: 1.0722 - accuracy: 0.6481 - val_loss: 1.0988 - val_accuracy: 0.5917\n",
      "Epoch 24/100\n",
      "17/17 [==============================] - 0s 24ms/step - loss: 1.0492 - accuracy: 0.6565 - val_loss: 1.0759 - val_accuracy: 0.5917\n",
      "Epoch 25/100\n",
      "17/17 [==============================] - 0s 24ms/step - loss: 1.0246 - accuracy: 0.6639 - val_loss: 1.0520 - val_accuracy: 0.6083\n",
      "Epoch 26/100\n",
      "17/17 [==============================] - 0s 24ms/step - loss: 1.0040 - accuracy: 0.6685 - val_loss: 1.0317 - val_accuracy: 0.5917\n",
      "Epoch 27/100\n",
      "17/17 [==============================] - 0s 26ms/step - loss: 0.9833 - accuracy: 0.6769 - val_loss: 1.0129 - val_accuracy: 0.6250\n",
      "Epoch 28/100\n",
      "17/17 [==============================] - 0s 24ms/step - loss: 0.9651 - accuracy: 0.6833 - val_loss: 0.9965 - val_accuracy: 0.6083\n",
      "Epoch 29/100\n",
      "17/17 [==============================] - 0s 26ms/step - loss: 0.9454 - accuracy: 0.6870 - val_loss: 0.9775 - val_accuracy: 0.6417\n",
      "Epoch 30/100\n",
      "17/17 [==============================] - 0s 24ms/step - loss: 0.9301 - accuracy: 0.6917 - val_loss: 0.9659 - val_accuracy: 0.6083\n",
      "Epoch 31/100\n",
      "17/17 [==============================] - 0s 25ms/step - loss: 0.9122 - accuracy: 0.6972 - val_loss: 0.9493 - val_accuracy: 0.6500\n",
      "Epoch 32/100\n",
      "17/17 [==============================] - 0s 24ms/step - loss: 0.8964 - accuracy: 0.7028 - val_loss: 0.9366 - val_accuracy: 0.6417\n",
      "Epoch 33/100\n",
      "17/17 [==============================] - 0s 25ms/step - loss: 0.8809 - accuracy: 0.7120 - val_loss: 0.9240 - val_accuracy: 0.6500\n",
      "Epoch 34/100\n",
      "17/17 [==============================] - 0s 25ms/step - loss: 0.8671 - accuracy: 0.7157 - val_loss: 0.9120 - val_accuracy: 0.6583\n",
      "Epoch 35/100\n",
      "17/17 [==============================] - 0s 24ms/step - loss: 0.8531 - accuracy: 0.7222 - val_loss: 0.9016 - val_accuracy: 0.6667\n",
      "Epoch 36/100\n",
      "17/17 [==============================] - 0s 25ms/step - loss: 0.8404 - accuracy: 0.7259 - val_loss: 0.8894 - val_accuracy: 0.6750\n",
      "Epoch 37/100\n",
      "17/17 [==============================] - 0s 25ms/step - loss: 0.8271 - accuracy: 0.7333 - val_loss: 0.8788 - val_accuracy: 0.6667\n",
      "Epoch 38/100\n",
      "17/17 [==============================] - 0s 24ms/step - loss: 0.8152 - accuracy: 0.7380 - val_loss: 0.8688 - val_accuracy: 0.6667\n",
      "Epoch 39/100\n",
      "17/17 [==============================] - 0s 24ms/step - loss: 0.8033 - accuracy: 0.7454 - val_loss: 0.8596 - val_accuracy: 0.6667\n",
      "Epoch 40/100\n",
      "17/17 [==============================] - 0s 24ms/step - loss: 0.7920 - accuracy: 0.7481 - val_loss: 0.8499 - val_accuracy: 0.6667\n",
      "Epoch 41/100\n",
      "17/17 [==============================] - 0s 24ms/step - loss: 0.7813 - accuracy: 0.7537 - val_loss: 0.8416 - val_accuracy: 0.6750\n",
      "Epoch 42/100\n",
      "17/17 [==============================] - 0s 23ms/step - loss: 0.7709 - accuracy: 0.7620 - val_loss: 0.8322 - val_accuracy: 0.6917\n",
      "Epoch 43/100\n",
      "17/17 [==============================] - 0s 24ms/step - loss: 0.7602 - accuracy: 0.7648 - val_loss: 0.8236 - val_accuracy: 0.7000\n",
      "Epoch 44/100\n",
      "17/17 [==============================] - 0s 25ms/step - loss: 0.7500 - accuracy: 0.7704 - val_loss: 0.8154 - val_accuracy: 0.7000\n",
      "Epoch 45/100\n",
      "17/17 [==============================] - 0s 24ms/step - loss: 0.7404 - accuracy: 0.7750 - val_loss: 0.8067 - val_accuracy: 0.7167\n",
      "Epoch 46/100\n",
      "17/17 [==============================] - 0s 25ms/step - loss: 0.7305 - accuracy: 0.7787 - val_loss: 0.7985 - val_accuracy: 0.7333\n",
      "Epoch 47/100\n",
      "17/17 [==============================] - 0s 24ms/step - loss: 0.7211 - accuracy: 0.7833 - val_loss: 0.7901 - val_accuracy: 0.7417\n",
      "Epoch 48/100\n",
      "17/17 [==============================] - 0s 26ms/step - loss: 0.7118 - accuracy: 0.7833 - val_loss: 0.7825 - val_accuracy: 0.7417\n",
      "Epoch 49/100\n",
      "17/17 [==============================] - 0s 25ms/step - loss: 0.7029 - accuracy: 0.7870 - val_loss: 0.7751 - val_accuracy: 0.7417\n",
      "Epoch 50/100\n",
      "17/17 [==============================] - 0s 25ms/step - loss: 0.6935 - accuracy: 0.7907 - val_loss: 0.7676 - val_accuracy: 0.7417\n",
      "Epoch 51/100\n",
      "17/17 [==============================] - 0s 26ms/step - loss: 0.6849 - accuracy: 0.7926 - val_loss: 0.7604 - val_accuracy: 0.7500\n",
      "Epoch 52/100\n",
      "17/17 [==============================] - 0s 25ms/step - loss: 0.6762 - accuracy: 0.7954 - val_loss: 0.7537 - val_accuracy: 0.7583\n",
      "Epoch 53/100\n",
      "17/17 [==============================] - 0s 25ms/step - loss: 0.6683 - accuracy: 0.7972 - val_loss: 0.7469 - val_accuracy: 0.7583\n",
      "Epoch 54/100\n",
      "17/17 [==============================] - 0s 26ms/step - loss: 0.6603 - accuracy: 0.8009 - val_loss: 0.7399 - val_accuracy: 0.7667\n",
      "Epoch 55/100\n",
      "17/17 [==============================] - 0s 24ms/step - loss: 0.6525 - accuracy: 0.8028 - val_loss: 0.7339 - val_accuracy: 0.7667\n",
      "Epoch 56/100\n",
      "17/17 [==============================] - 0s 26ms/step - loss: 0.6450 - accuracy: 0.8056 - val_loss: 0.7275 - val_accuracy: 0.7667\n",
      "Epoch 57/100\n",
      "17/17 [==============================] - 0s 27ms/step - loss: 0.6373 - accuracy: 0.8065 - val_loss: 0.7205 - val_accuracy: 0.7667\n",
      "Epoch 58/100\n",
      "17/17 [==============================] - 0s 26ms/step - loss: 0.6293 - accuracy: 0.8065 - val_loss: 0.7144 - val_accuracy: 0.7667\n",
      "Epoch 59/100\n",
      "17/17 [==============================] - 0s 27ms/step - loss: 0.6210 - accuracy: 0.8056 - val_loss: 0.7077 - val_accuracy: 0.7667\n",
      "Epoch 60/100\n",
      "17/17 [==============================] - 0s 27ms/step - loss: 0.6134 - accuracy: 0.8093 - val_loss: 0.7015 - val_accuracy: 0.7750\n",
      "Epoch 61/100\n",
      "17/17 [==============================] - 0s 29ms/step - loss: 0.6064 - accuracy: 0.8139 - val_loss: 0.6959 - val_accuracy: 0.7667\n",
      "Epoch 62/100\n",
      "17/17 [==============================] - 0s 25ms/step - loss: 0.5988 - accuracy: 0.8157 - val_loss: 0.6900 - val_accuracy: 0.7667\n",
      "Epoch 63/100\n",
      "17/17 [==============================] - 0s 26ms/step - loss: 0.5915 - accuracy: 0.8185 - val_loss: 0.6855 - val_accuracy: 0.7750\n",
      "Epoch 64/100\n",
      "17/17 [==============================] - 0s 24ms/step - loss: 0.5850 - accuracy: 0.8194 - val_loss: 0.6791 - val_accuracy: 0.7667\n",
      "Epoch 65/100\n",
      "17/17 [==============================] - 0s 24ms/step - loss: 0.5778 - accuracy: 0.8204 - val_loss: 0.6745 - val_accuracy: 0.7750\n",
      "Epoch 66/100\n",
      "17/17 [==============================] - 0s 25ms/step - loss: 0.5708 - accuracy: 0.8222 - val_loss: 0.6687 - val_accuracy: 0.7750\n",
      "Epoch 67/100\n",
      "17/17 [==============================] - 0s 25ms/step - loss: 0.5639 - accuracy: 0.8222 - val_loss: 0.6646 - val_accuracy: 0.7750\n",
      "Epoch 68/100\n",
      "17/17 [==============================] - 0s 26ms/step - loss: 0.5576 - accuracy: 0.8259 - val_loss: 0.6600 - val_accuracy: 0.7750\n",
      "Epoch 69/100\n",
      "17/17 [==============================] - 0s 25ms/step - loss: 0.5512 - accuracy: 0.8278 - val_loss: 0.6556 - val_accuracy: 0.7750\n",
      "Epoch 70/100\n",
      "17/17 [==============================] - 0s 26ms/step - loss: 0.5453 - accuracy: 0.8287 - val_loss: 0.6510 - val_accuracy: 0.7750\n",
      "Epoch 71/100\n",
      "17/17 [==============================] - 0s 25ms/step - loss: 0.5393 - accuracy: 0.8296 - val_loss: 0.6464 - val_accuracy: 0.7750\n",
      "Epoch 72/100\n",
      "17/17 [==============================] - 0s 25ms/step - loss: 0.5331 - accuracy: 0.8315 - val_loss: 0.6422 - val_accuracy: 0.7833\n",
      "Epoch 73/100\n",
      "17/17 [==============================] - 0s 25ms/step - loss: 0.5272 - accuracy: 0.8324 - val_loss: 0.6384 - val_accuracy: 0.7833\n",
      "Epoch 74/100\n",
      "17/17 [==============================] - 0s 25ms/step - loss: 0.5216 - accuracy: 0.8380 - val_loss: 0.6335 - val_accuracy: 0.7833\n",
      "Epoch 75/100\n",
      "17/17 [==============================] - 0s 25ms/step - loss: 0.5155 - accuracy: 0.8407 - val_loss: 0.6299 - val_accuracy: 0.7833\n",
      "Epoch 76/100\n",
      "17/17 [==============================] - 0s 24ms/step - loss: 0.5094 - accuracy: 0.8435 - val_loss: 0.6261 - val_accuracy: 0.7833\n",
      "Epoch 77/100\n",
      "17/17 [==============================] - 0s 24ms/step - loss: 0.5039 - accuracy: 0.8463 - val_loss: 0.6222 - val_accuracy: 0.7833\n",
      "Epoch 78/100\n",
      "17/17 [==============================] - 0s 24ms/step - loss: 0.4979 - accuracy: 0.8454 - val_loss: 0.6191 - val_accuracy: 0.7833\n",
      "Epoch 79/100\n",
      "17/17 [==============================] - 0s 24ms/step - loss: 0.4919 - accuracy: 0.8481 - val_loss: 0.6150 - val_accuracy: 0.7833\n",
      "Epoch 80/100\n",
      "17/17 [==============================] - 0s 25ms/step - loss: 0.4867 - accuracy: 0.8491 - val_loss: 0.6116 - val_accuracy: 0.7917\n",
      "Epoch 81/100\n",
      "17/17 [==============================] - 0s 24ms/step - loss: 0.4809 - accuracy: 0.8491 - val_loss: 0.6087 - val_accuracy: 0.7833\n",
      "Epoch 82/100\n",
      "17/17 [==============================] - 0s 24ms/step - loss: 0.4753 - accuracy: 0.8537 - val_loss: 0.6051 - val_accuracy: 0.7917\n",
      "Epoch 83/100\n",
      "17/17 [==============================] - 0s 24ms/step - loss: 0.4699 - accuracy: 0.8537 - val_loss: 0.6016 - val_accuracy: 0.7833\n",
      "Epoch 84/100\n",
      "17/17 [==============================] - 0s 24ms/step - loss: 0.4647 - accuracy: 0.8556 - val_loss: 0.5971 - val_accuracy: 0.7917\n",
      "Epoch 85/100\n",
      "17/17 [==============================] - 0s 24ms/step - loss: 0.4589 - accuracy: 0.8565 - val_loss: 0.5946 - val_accuracy: 0.8000\n",
      "Epoch 86/100\n",
      "17/17 [==============================] - 0s 24ms/step - loss: 0.4534 - accuracy: 0.8574 - val_loss: 0.5907 - val_accuracy: 0.8000\n",
      "Epoch 87/100\n",
      "17/17 [==============================] - 0s 24ms/step - loss: 0.4482 - accuracy: 0.8602 - val_loss: 0.5871 - val_accuracy: 0.8083\n",
      "Epoch 88/100\n",
      "17/17 [==============================] - 0s 24ms/step - loss: 0.4434 - accuracy: 0.8657 - val_loss: 0.5834 - val_accuracy: 0.8083\n",
      "Epoch 89/100\n",
      "17/17 [==============================] - 0s 24ms/step - loss: 0.4384 - accuracy: 0.8667 - val_loss: 0.5800 - val_accuracy: 0.8083\n",
      "Epoch 90/100\n",
      "17/17 [==============================] - 0s 24ms/step - loss: 0.4335 - accuracy: 0.8704 - val_loss: 0.5767 - val_accuracy: 0.8083\n",
      "Epoch 91/100\n",
      "17/17 [==============================] - 0s 24ms/step - loss: 0.4287 - accuracy: 0.8750 - val_loss: 0.5732 - val_accuracy: 0.8083\n",
      "Epoch 92/100\n",
      "17/17 [==============================] - 0s 24ms/step - loss: 0.4242 - accuracy: 0.8778 - val_loss: 0.5700 - val_accuracy: 0.8167\n",
      "Epoch 93/100\n",
      "17/17 [==============================] - 0s 26ms/step - loss: 0.4192 - accuracy: 0.8778 - val_loss: 0.5664 - val_accuracy: 0.8167\n",
      "Epoch 94/100\n",
      "17/17 [==============================] - 0s 24ms/step - loss: 0.4148 - accuracy: 0.8806 - val_loss: 0.5628 - val_accuracy: 0.8083\n",
      "Epoch 95/100\n",
      "17/17 [==============================] - 0s 24ms/step - loss: 0.4101 - accuracy: 0.8815 - val_loss: 0.5592 - val_accuracy: 0.8083\n",
      "Epoch 96/100\n",
      "17/17 [==============================] - 0s 24ms/step - loss: 0.4056 - accuracy: 0.8824 - val_loss: 0.5555 - val_accuracy: 0.8083\n",
      "Epoch 97/100\n",
      "17/17 [==============================] - 0s 24ms/step - loss: 0.4010 - accuracy: 0.8833 - val_loss: 0.5523 - val_accuracy: 0.8083\n",
      "Epoch 98/100\n",
      "17/17 [==============================] - 0s 25ms/step - loss: 0.3967 - accuracy: 0.8843 - val_loss: 0.5487 - val_accuracy: 0.8083\n",
      "Epoch 99/100\n",
      "17/17 [==============================] - 0s 23ms/step - loss: 0.3923 - accuracy: 0.8861 - val_loss: 0.5449 - val_accuracy: 0.8083\n",
      "Epoch 100/100\n",
      "17/17 [==============================] - 0s 24ms/step - loss: 0.3878 - accuracy: 0.8889 - val_loss: 0.5417 - val_accuracy: 0.8083\n"
     ]
    }
   ],
   "source": [
    "train_dataset = tf.data.Dataset.from_tensor_slices((X_train, Y_train)).batch(64)\n",
    "test_dataset = tf.data.Dataset.from_tensor_slices((X_test, Y_test)).batch(64)\n",
    "history = conv_model.fit(train_dataset, epochs=100, validation_data=test_dataset)"
   ]
  },
  {
   "cell_type": "code",
   "execution_count": 35,
   "id": "99e20fd3",
   "metadata": {},
   "outputs": [
    {
     "name": "stderr",
     "output_type": "stream",
     "text": [
      "C:\\Users\\KK\\anaconda3\\lib\\site-packages\\pandas\\core\\frame.py:4441: SettingWithCopyWarning: \n",
      "A value is trying to be set on a copy of a slice from a DataFrame\n",
      "\n",
      "See the caveats in the documentation: https://pandas.pydata.org/pandas-docs/stable/user_guide/indexing.html#returning-a-view-versus-a-copy\n",
      "  return super().rename(\n"
     ]
    },
    {
     "data": {
      "text/plain": [
       "[Text(0.5, 0, 'Epoch'), Text(0, 0.5, 'Accuracy')]"
      ]
     },
     "execution_count": 35,
     "metadata": {},
     "output_type": "execute_result"
    },
    {
     "data": {
      "image/png": "[encoded data removed]",
      "text/plain": [
       "<Figure size 864x576 with 1 Axes>"
      ]
     },
     "metadata": {
      "needs_background": "light"
     },
     "output_type": "display_data"
    },
    {
     "data": {
      "image/png": "[encoded data removed]",
      "text/plain": [
       "<Figure size 864x576 with 1 Axes>"
      ]
     },
     "metadata": {
      "needs_background": "light"
     },
     "output_type": "display_data"
    }
   ],
   "source": [
    "df_loss_acc = pd.DataFrame(history.history)\n",
    "df_loss= df_loss_acc[['loss','val_loss']]\n",
    "df_loss.rename(columns={'loss':'train','val_loss':'validation'},inplace=True)\n",
    "df_acc= df_loss_acc[['accuracy','val_accuracy']]\n",
    "df_acc.rename(columns={'accuracy':'train','val_accuracy':'validation'},inplace=True)\n",
    "df_loss.plot(title='Model loss',figsize=(12,8)).set(xlabel='Epoch',ylabel='Loss')\n",
    "df_acc.plot(title='Model Accuracy',figsize=(12,8)).set(xlabel='Epoch',ylabel='Accuracy')"
   ]
  },
  {
   "cell_type": "code",
   "execution_count": 36,
   "id": "b4375146",
   "metadata": {},
   "outputs": [
    {
     "name": "stdout",
     "output_type": "stream",
     "text": [
      "4/4 [==============================] - 0s 4ms/step - loss: 0.5417 - accuracy: 0.8083\n",
      "accuracy : 0.8083333373069763, loss : 0.5416737198829651\n"
     ]
    }
   ],
   "source": [
    "score = conv_model.evaluate(X_test, Y_test)\n",
    "\n",
    "print(f\"accuracy : {score[1]}, loss : {score[0]}\")"
   ]
  },
  {
   "cell_type": "code",
   "execution_count": null,
   "id": "c5ef4248",
   "metadata": {},
   "outputs": [],
   "source": []
  }
 ],
 "metadata": {
  "kernelspec": {
   "display_name": "Python 3",
   "language": "python",
   "name": "python3"
  },
  "language_info": {
   "codemirror_mode": {
    "name": "ipython",
    "version": 3
   },
   "file_extension": ".py",
   "mimetype": "text/x-python",
   "name": "python",
   "nbconvert_exporter": "python",
   "pygments_lexer": "ipython3",
   "version": "3.8.8"
  }
 },
 "nbformat": 4,
 "nbformat_minor": 5
}
